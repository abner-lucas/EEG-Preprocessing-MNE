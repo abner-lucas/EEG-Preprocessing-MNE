{
 "cells": [
  {
   "cell_type": "code",
   "execution_count": 1,
   "metadata": {},
   "outputs": [],
   "source": [
    "import mne\n",
    "import numpy as np\n",
    "import pandas as pd\n",
    "import json"
   ]
  },
  {
   "cell_type": "code",
   "execution_count": 2,
   "metadata": {},
   "outputs": [
    {
     "name": "stdout",
     "output_type": "stream",
     "text": [
      "Extracting parameters from data_brainvision/Metzler0004.vhdr...\n",
      "Setting channel info structure...\n",
      "Reading 0 ... 1823139  =      0.000 ...  1823.139 secs...\n"
     ]
    }
   ],
   "source": [
    "path = f'data_brainvision/'\n",
    "name_file = 'Metzler0004'\n",
    "file = path + name_file + '.vhdr'\n",
    "\n",
    "raw_data = mne.io.read_raw_brainvision(file, preload=True)"
   ]
  },
  {
   "cell_type": "code",
   "execution_count": 3,
   "metadata": {},
   "outputs": [
    {
     "name": "stdout",
     "output_type": "stream",
     "text": [
      "Used Annotations descriptions: ['Comment/no USB Connection to actiCAP', 'New Segment/', 'Stimulus/S  1', 'Stimulus/S  2', 'Stimulus/S  3', 'Stimulus/S  4', 'Stimulus/S  5', 'Stimulus/S  6', 'Stimulus/S  7', 'Stimulus/S  8', 'Stimulus/S  9', 'Stimulus/S 10', 'Stimulus/S 11', 'Stimulus/S 12', 'Stimulus/S 13', 'Stimulus/S 14', 'Stimulus/S 15', 'Stimulus/S 16', 'Stimulus/S 17', 'Stimulus/S 18', 'Stimulus/S 19', 'Stimulus/S 20', 'Stimulus/S 21', 'Stimulus/S 22', 'Stimulus/S 23', 'Stimulus/S 24', 'Stimulus/S 25', 'Stimulus/S 26', 'Stimulus/S 27', 'Stimulus/S 28', 'Stimulus/S 29', 'Stimulus/S 30', 'Stimulus/S 31', 'Stimulus/S 32', 'Stimulus/S 33', 'Stimulus/S 34', 'Stimulus/S 35', 'Stimulus/S 36', 'Stimulus/S 37', 'Stimulus/S 38', 'Stimulus/S 39', 'Stimulus/S 40', 'Stimulus/S 41', 'Stimulus/S 42', 'Stimulus/S 43', 'Stimulus/S 44', 'Stimulus/S 45', 'Stimulus/S 46', 'Stimulus/S 47', 'Stimulus/S 48', 'Stimulus/S 49', 'Stimulus/S 50', 'Stimulus/S 51', 'Stimulus/S 52', 'Stimulus/S 53', 'Stimulus/S 54', 'Stimulus/S 55', 'Stimulus/S 56', 'Stimulus/S 57', 'Stimulus/S 58', 'Stimulus/S 59', 'Stimulus/S 60', 'Stimulus/S 61', 'Stimulus/S 62', 'Stimulus/S 63', 'Stimulus/S 64', 'Stimulus/S 65', 'Stimulus/S 66', 'Stimulus/S 67', 'Stimulus/S 68', 'Stimulus/S 69', 'Stimulus/S 70', 'Stimulus/S 71', 'Stimulus/S 72', 'Stimulus/S 73', 'Stimulus/S 74', 'Stimulus/S 75', 'Stimulus/S 76', 'Stimulus/S 77', 'Stimulus/S 78', 'Stimulus/S 79', 'Stimulus/S 80', 'Stimulus/S 81', 'Stimulus/S 82', 'Stimulus/S 83', 'Stimulus/S 84', 'Stimulus/S 85', 'Stimulus/S 86', 'Stimulus/S 87', 'Stimulus/S 88', 'Stimulus/S 89', 'Stimulus/S 90', 'Stimulus/S 91', 'Stimulus/S 92', 'Stimulus/S 93', 'Stimulus/S 94', 'Stimulus/S 95', 'Stimulus/S 96', 'Stimulus/S 97', 'Stimulus/S 98', 'Stimulus/S 99', 'Stimulus/S100', 'Stimulus/S101', 'Stimulus/S102', 'Stimulus/S103', 'Stimulus/S104', 'Stimulus/S105', 'Stimulus/S106', 'Stimulus/S107', 'Stimulus/S108', 'Stimulus/S109', 'Stimulus/S110', 'Stimulus/S111', 'Stimulus/S112', 'Stimulus/S113', 'Stimulus/S114', 'Stimulus/S115', 'Stimulus/S116', 'Stimulus/S117', 'Stimulus/S118', 'Stimulus/S119', 'Stimulus/S120', 'Stimulus/S121', 'Stimulus/S122', 'Stimulus/S123', 'Stimulus/S124', 'Stimulus/S125', 'Stimulus/S126', 'Stimulus/S127', 'Stimulus/S128', 'Stimulus/S129', 'Stimulus/S130', 'Stimulus/S131', 'Stimulus/S132', 'Stimulus/S133', 'Stimulus/S134', 'Stimulus/S135', 'Stimulus/S136', 'Stimulus/S137', 'Stimulus/S138', 'Stimulus/S139', 'Stimulus/S140', 'Stimulus/S141', 'Stimulus/S142', 'Stimulus/S143', 'Stimulus/S144', 'Stimulus/S145', 'Stimulus/S146', 'Stimulus/S147', 'Stimulus/S148', 'Stimulus/S149', 'Stimulus/S150', 'Stimulus/S151', 'Stimulus/S152', 'Stimulus/S153', 'Stimulus/S154', 'Stimulus/S155', 'Stimulus/S156', 'Stimulus/S157', 'Stimulus/S158', 'Stimulus/S159', 'Stimulus/S160', 'Stimulus/S251', 'Stimulus/S252']\n"
     ]
    }
   ],
   "source": [
    "events_stimulus, event_stimulus_dict = mne.events_from_annotations(raw_data)\n",
    "\n",
    "#carregar o dicionário em json\n",
    "with open('datasets/event_stimulus_new_dict.json') as json_file:\n",
    "    event_stimulus_new_dict = json.load(json_file)"
   ]
  },
  {
   "cell_type": "code",
   "execution_count": 4,
   "metadata": {},
   "outputs": [],
   "source": [
    "#Calcular a amplitude de cada evento em relação ao evento anterior\n",
    "diff_events = np.diff(events_stimulus[:, 0])\n",
    "diff_events = np.insert(diff_events, 1, 0, axis=0) "
   ]
  },
  {
   "cell_type": "code",
   "execution_count": 5,
   "metadata": {},
   "outputs": [
    {
     "data": {
      "text/html": [
       "<div>\n",
       "<style scoped>\n",
       "    .dataframe tbody tr th:only-of-type {\n",
       "        vertical-align: middle;\n",
       "    }\n",
       "\n",
       "    .dataframe tbody tr th {\n",
       "        vertical-align: top;\n",
       "    }\n",
       "\n",
       "    .dataframe thead th {\n",
       "        text-align: right;\n",
       "    }\n",
       "</style>\n",
       "<table border=\"1\" class=\"dataframe\">\n",
       "  <thead>\n",
       "    <tr style=\"text-align: right;\">\n",
       "      <th></th>\n",
       "      <th>time(ms)</th>\n",
       "      <th>channels</th>\n",
       "      <th>stimulus_key</th>\n",
       "      <th>stimulus_desc</th>\n",
       "      <th>stimulus_new_desc</th>\n",
       "      <th>diff(ms)</th>\n",
       "    </tr>\n",
       "  </thead>\n",
       "  <tbody>\n",
       "    <tr>\n",
       "      <th>0</th>\n",
       "      <td>0</td>\n",
       "      <td>0</td>\n",
       "      <td>99999</td>\n",
       "      <td>New Segment/</td>\n",
       "      <td>New Segment</td>\n",
       "      <td>0</td>\n",
       "    </tr>\n",
       "    <tr>\n",
       "      <th>1</th>\n",
       "      <td>0</td>\n",
       "      <td>0</td>\n",
       "      <td>10001</td>\n",
       "      <td>Comment/no USB Connection to actiCAP</td>\n",
       "      <td>USB Connection</td>\n",
       "      <td>0</td>\n",
       "    </tr>\n",
       "    <tr>\n",
       "      <th>2</th>\n",
       "      <td>29172</td>\n",
       "      <td>0</td>\n",
       "      <td>157</td>\n",
       "      <td>Stimulus/S157</td>\n",
       "      <td>Stimulus/48_0_R</td>\n",
       "      <td>29172</td>\n",
       "    </tr>\n",
       "    <tr>\n",
       "      <th>3</th>\n",
       "      <td>29173</td>\n",
       "      <td>0</td>\n",
       "      <td>153</td>\n",
       "      <td>Stimulus/S153</td>\n",
       "      <td>Stimulus/48_0</td>\n",
       "      <td>1</td>\n",
       "    </tr>\n",
       "    <tr>\n",
       "      <th>4</th>\n",
       "      <td>31201</td>\n",
       "      <td>0</td>\n",
       "      <td>251</td>\n",
       "      <td>Stimulus/S251</td>\n",
       "      <td>Answer/Equals</td>\n",
       "      <td>2028</td>\n",
       "    </tr>\n",
       "    <tr>\n",
       "      <th>...</th>\n",
       "      <td>...</td>\n",
       "      <td>...</td>\n",
       "      <td>...</td>\n",
       "      <td>...</td>\n",
       "      <td>...</td>\n",
       "      <td>...</td>\n",
       "    </tr>\n",
       "    <tr>\n",
       "      <th>310</th>\n",
       "      <td>1789496</td>\n",
       "      <td>0</td>\n",
       "      <td>251</td>\n",
       "      <td>Stimulus/S251</td>\n",
       "      <td>Answer/Equals</td>\n",
       "      <td>1766</td>\n",
       "    </tr>\n",
       "    <tr>\n",
       "      <th>311</th>\n",
       "      <td>1796613</td>\n",
       "      <td>0</td>\n",
       "      <td>47</td>\n",
       "      <td>Stimulus/S 47</td>\n",
       "      <td>Stimulus/6_100_R</td>\n",
       "      <td>7117</td>\n",
       "    </tr>\n",
       "    <tr>\n",
       "      <th>312</th>\n",
       "      <td>1800729</td>\n",
       "      <td>0</td>\n",
       "      <td>252</td>\n",
       "      <td>Stimulus/S252</td>\n",
       "      <td>Answer/Different</td>\n",
       "      <td>4116</td>\n",
       "    </tr>\n",
       "    <tr>\n",
       "      <th>313</th>\n",
       "      <td>1807840</td>\n",
       "      <td>0</td>\n",
       "      <td>57</td>\n",
       "      <td>Stimulus/S 57</td>\n",
       "      <td>Stimulus/8_0</td>\n",
       "      <td>7111</td>\n",
       "    </tr>\n",
       "    <tr>\n",
       "      <th>314</th>\n",
       "      <td>1808613</td>\n",
       "      <td>0</td>\n",
       "      <td>251</td>\n",
       "      <td>Stimulus/S251</td>\n",
       "      <td>Answer/Equals</td>\n",
       "      <td>773</td>\n",
       "    </tr>\n",
       "  </tbody>\n",
       "</table>\n",
       "<p>315 rows × 6 columns</p>\n",
       "</div>"
      ],
      "text/plain": [
       "     time(ms)  channels  stimulus_key                         stimulus_desc  \\\n",
       "0           0         0         99999                          New Segment/   \n",
       "1           0         0         10001  Comment/no USB Connection to actiCAP   \n",
       "2       29172         0           157                         Stimulus/S157   \n",
       "3       29173         0           153                         Stimulus/S153   \n",
       "4       31201         0           251                         Stimulus/S251   \n",
       "..        ...       ...           ...                                   ...   \n",
       "310   1789496         0           251                         Stimulus/S251   \n",
       "311   1796613         0            47                         Stimulus/S 47   \n",
       "312   1800729         0           252                         Stimulus/S252   \n",
       "313   1807840         0            57                         Stimulus/S 57   \n",
       "314   1808613         0           251                         Stimulus/S251   \n",
       "\n",
       "    stimulus_new_desc  diff(ms)  \n",
       "0         New Segment         0  \n",
       "1      USB Connection         0  \n",
       "2     Stimulus/48_0_R     29172  \n",
       "3       Stimulus/48_0         1  \n",
       "4       Answer/Equals      2028  \n",
       "..                ...       ...  \n",
       "310     Answer/Equals      1766  \n",
       "311  Stimulus/6_100_R      7117  \n",
       "312  Answer/Different      4116  \n",
       "313      Stimulus/8_0      7111  \n",
       "314     Answer/Equals       773  \n",
       "\n",
       "[315 rows x 6 columns]"
      ]
     },
     "execution_count": 5,
     "metadata": {},
     "output_type": "execute_result"
    }
   ],
   "source": [
    "#Transformar em um dataframe\n",
    "df_events = pd.DataFrame(events_stimulus, columns=['time(ms)', 'channels','stimulus_key'])\n",
    "\n",
    "stimulus_desc = []\n",
    "for x in df_events['stimulus_key']:\n",
    "    for item in event_stimulus_dict.items():\n",
    "        if item[1] == x:\n",
    "            stimulus_desc.append(item[0])\n",
    "\n",
    "stimulus_new_desc = []\n",
    "for x in df_events['stimulus_key']:\n",
    "    for item in event_stimulus_new_dict.items():\n",
    "        if item[1] == x:\n",
    "            stimulus_new_desc.append(item[0])\n",
    "            \n",
    "df_events['stimulus_desc'] = stimulus_desc\n",
    "df_events['stimulus_new_desc'] = stimulus_new_desc\n",
    "df_events['diff(ms)'] = diff_events\n",
    "df_events"
   ]
  },
  {
   "cell_type": "code",
   "execution_count": 6,
   "metadata": {},
   "outputs": [],
   "source": [
    "#Salvar como csv\n",
    "df_events.to_csv(f'datasets/{name_file}_events_stimulus.csv', index=False)"
   ]
  }
 ],
 "metadata": {
  "interpreter": {
   "hash": "c3e8792cd264a7614431e5b38ee263257bd4ae1fc274d37d97a86953cf54092c"
  },
  "kernelspec": {
   "display_name": "Python 3.8.12 ('base')",
   "language": "python",
   "name": "python3"
  },
  "language_info": {
   "codemirror_mode": {
    "name": "ipython",
    "version": 3
   },
   "file_extension": ".py",
   "mimetype": "text/x-python",
   "name": "python",
   "nbconvert_exporter": "python",
   "pygments_lexer": "ipython3",
   "version": "3.8.12"
  },
  "orig_nbformat": 4
 },
 "nbformat": 4,
 "nbformat_minor": 2
}
